{
  "nbformat": 4,
  "nbformat_minor": 0,
  "metadata": {
    "colab": {
      "provenance": [],
      "authorship_tag": "ABX9TyNkrmYoSlN+jc+Wtyvk8H+H",
      "include_colab_link": true
    },
    "kernelspec": {
      "name": "python3",
      "display_name": "Python 3"
    },
    "language_info": {
      "name": "python"
    }
  },
  "cells": [
    {
      "cell_type": "markdown",
      "metadata": {
        "id": "view-in-github",
        "colab_type": "text"
      },
      "source": [
        "<a href=\"https://colab.research.google.com/github/Carlosvergara1995/Problem_Set_4_Predicting_Tweets/blob/main/Analizador_de_texto.ipynb\" target=\"_parent\"><img src=\"https://colab.research.google.com/assets/colab-badge.svg\" alt=\"Open In Colab\"/></a>"
      ]
    },
    {
      "cell_type": "markdown",
      "source": [
        "##TProblem_Set_4_Predicting_Tweets\n"
      ],
      "metadata": {
        "id": "BKVoh67jkutB"
      }
    },
    {
      "cell_type": "markdown",
      "source": [
        "##CARGA DE DATOS"
      ],
      "metadata": {
        "id": "11HGLUJZk1VV"
      }
    },
    {
      "cell_type": "code",
      "execution_count": null,
      "metadata": {
        "id": "99FY8UsYklEs"
      },
      "outputs": [],
      "source": [
        "#IMPORTAMOS LIBRERIAS\n",
        "import pandas as pd\n",
        "import numpy as np"
      ]
    }
  ]
}