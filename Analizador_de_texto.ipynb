{
  "nbformat": 4,
  "nbformat_minor": 0,
  "metadata": {
    "colab": {
      "provenance": [],
      "authorship_tag": "ABX9TyMvx4mmvCBA7blhN0JbI9M9",
      "include_colab_link": true
    },
    "kernelspec": {
      "name": "python3",
      "display_name": "Python 3"
    },
    "language_info": {
      "name": "python"
    }
  },
  "cells": [
    {
      "cell_type": "markdown",
      "metadata": {
        "id": "view-in-github",
        "colab_type": "text"
      },
      "source": [
        "<a href=\"https://colab.research.google.com/github/Carlosvergara1995/Problem_Set_4_Predicting_Tweets/blob/main/Analizador_de_texto.ipynb\" target=\"_parent\"><img src=\"https://colab.research.google.com/assets/colab-badge.svg\" alt=\"Open In Colab\"/></a>"
      ]
    },
    {
      "cell_type": "markdown",
      "source": [
        "##TProblem_Set_4_Predicting_Tweets\n"
      ],
      "metadata": {
        "id": "BKVoh67jkutB"
      }
    },
    {
      "cell_type": "markdown",
      "source": [
        "##CARGA DE DATOS"
      ],
      "metadata": {
        "id": "11HGLUJZk1VV"
      }
    },
    {
      "cell_type": "code",
      "execution_count": 4,
      "metadata": {
        "id": "99FY8UsYklEs"
      },
      "outputs": [],
      "source": [
        "#IMPORTAMOS LIBRERIAS\n",
        "import pandas as pd\n",
        "import numpy as np\n",
        "import pandas as pd"
      ]
    },
    {
      "cell_type": "code",
      "source": [
        "!git pull"
      ],
      "metadata": {
        "id": "M39YUG-7pkW3",
        "outputId": "5d51489f-1b50-40eb-e9e0-a5434b20971d",
        "colab": {
          "base_uri": "https://localhost:8080/"
        }
      },
      "execution_count": 5,
      "outputs": [
        {
          "output_type": "stream",
          "name": "stdout",
          "text": [
            "fatal: not a git repository (or any of the parent directories): .git\n"
          ]
        }
      ]
    }
  ]
}